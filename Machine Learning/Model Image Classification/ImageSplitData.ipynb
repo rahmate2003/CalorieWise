{
 "cells": [
  {
   "cell_type": "markdown",
   "metadata": {},
   "source": [
    "## SPLITTING DATA ##"
   ]
  },
  {
   "cell_type": "code",
   "execution_count": 21,
   "metadata": {},
   "outputs": [],
   "source": [
    "import os\n",
    "import shutil\n",
    "import random"
   ]
  },
  {
   "cell_type": "code",
   "execution_count": 22,
   "metadata": {},
   "outputs": [],
   "source": [
    "# Path ke dataset gambar\n",
    "dataset_dir = 'FoodImage'\n",
    "\n",
    "# Path tujuan untuk train, validation, dan test\n",
    "output_dir = 'FoodImage_split'\n",
    "train_dir = os.path.join(output_dir, 'train')\n",
    "validation_dir = os.path.join(output_dir, 'validation')\n",
    "test_dir = os.path.join(output_dir, 'test')"
   ]
  },
  {
   "cell_type": "code",
   "execution_count": 23,
   "metadata": {},
   "outputs": [],
   "source": [
    "# Dapatkan semua label dari dataset\n",
    "labels = os.listdir(dataset_dir)\n",
    "\n",
    "for label in labels:\n",
    "    label_path = os.path.join(dataset_dir, label)\n",
    "    if os.path.isdir(label_path):\n",
    "        # Buat direktori label di dalam folder train, validation, dan test\n",
    "        train_label_dir = os.path.join(train_dir, label)\n",
    "        validation_label_dir = os.path.join(validation_dir, label)\n",
    "        test_label_dir = os.path.join(test_dir, label)\n",
    "        \n",
    "        for dir_path in [train_label_dir, validation_label_dir, test_label_dir]:\n",
    "            if not os.path.exists(dir_path):\n",
    "                os.makedirs(dir_path)\n",
    "        \n",
    "        # Dapatkan semua file gambar dalam label\n",
    "        images = os.listdir(label_path)\n",
    "        random.shuffle(images)\n",
    "        \n",
    "        # Tentukan jumlah gambar untuk train, validation, dan test\n",
    "        num_images = len(images)\n",
    "        train_size = int(num_images * 0.8)\n",
    "        validation_size = int(num_images * 0.1)\n",
    "        test_size = num_images - train_size - validation_size\n",
    "        \n",
    "        # Bagi gambar ke dalam folder train, validation, dan test\n",
    "        train_images = images[:train_size]\n",
    "        validation_images = images[train_size:train_size + validation_size]\n",
    "        test_images = images[train_size + validation_size:]\n",
    "        \n",
    "        # Pindahkan gambar ke folder masing-masing\n",
    "        for image in train_images:\n",
    "            shutil.move(os.path.join(label_path, image), os.path.join(train_label_dir, image))\n",
    "        for image in validation_images:\n",
    "            shutil.move(os.path.join(label_path, image), os.path.join(validation_label_dir, image))\n",
    "        for image in test_images:\n",
    "            shutil.move(os.path.join(label_path, image), os.path.join(test_label_dir, image))"
   ]
  }
 ],
 "metadata": {
  "kernelspec": {
   "display_name": "Python 3",
   "language": "python",
   "name": "python3"
  },
  "language_info": {
   "codemirror_mode": {
    "name": "ipython",
    "version": 3
   },
   "file_extension": ".py",
   "mimetype": "text/x-python",
   "name": "python",
   "nbconvert_exporter": "python",
   "pygments_lexer": "ipython3",
   "version": "3.10.13"
  }
 },
 "nbformat": 4,
 "nbformat_minor": 2
}
